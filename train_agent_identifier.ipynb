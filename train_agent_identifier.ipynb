{
 "cells": [
  {
   "cell_type": "code",
   "execution_count": 6,
   "metadata": {},
   "outputs": [],
   "source": [
    "import os\n",
    "os.environ[\"TF_CPP_MIN_LOG_LEVEL\"] = \"2\"\n",
    "import tensorflow as tf\n",
    "from tensorflow import keras\n",
    "from tensorflow.keras import layers\n",
    "from tensorflow.keras.preprocessing.image import ImageDataGenerator\n",
    "\n",
    "img_height = 28\n",
    "img_width = 28\n",
    "batch_size = 2\n",
    "\n",
    "model = keras.Sequential(\n",
    "    [\n",
    "        layers.Input((img_height, img_width, 1)),\n",
    "        layers.Conv2D(16, 3, padding='same'),\n",
    "        layers.Conv2D(32, 3, padding='same'),\n",
    "        layers.MaxPooling2D(),\n",
    "        layers.Flatten(),\n",
    "        layers.Dense(10),\n",
    "    ]\n",
    ")\n",
    "\n",
    "class_names = []\n",
    "for folder in os.listdir('./data/sorted/'):\n",
    "    if (folder != '.gitignore'):\n",
    "        class_names.append(folder)\n",
    "\n"
   ]
  },
  {
   "cell_type": "code",
   "execution_count": 8,
   "metadata": {},
   "outputs": [
    {
     "name": "stdout",
     "output_type": "stream",
     "text": [
      "Found 135 files belonging to 5 classes.\n",
      "Using 122 files for training.\n"
     ]
    },
    {
     "name": "stdout",
     "output_type": "stream",
     "text": [
      "Found 135 files belonging to 5 classes.\n",
      "Using 13 files for validation.\n"
     ]
    }
   ],
   "source": [
    "ds_train = tf.keras.preprocessing.image_dataset_from_directory(\n",
    "    './data/sorted/',\n",
    "    labels='inferred',\n",
    "    label_mode='int',\n",
    "    # class_names=class_names,\n",
    "    color_mode='grayscale',\n",
    "    batch_size=batch_size,\n",
    "    image_size=(img_height,img_width),\n",
    "    shuffle=True,\n",
    "    seed=123,\n",
    "    validation_split=0.1,\n",
    "    subset='training',\n",
    ")\n",
    "\n",
    "ds_validation = tf.keras.preprocessing.image_dataset_from_directory(\n",
    "    './data/sorted/',\n",
    "    labels='inferred',\n",
    "    label_mode='int',\n",
    "    # class_names=class_names,\n",
    "    color_mode='grayscale',\n",
    "    batch_size=batch_size,\n",
    "    image_size=(img_height,img_width),\n",
    "    shuffle=True,\n",
    "    seed=123,\n",
    "    validation_split=0.1,\n",
    "    subset='validation',\n",
    ")"
   ]
  },
  {
   "cell_type": "code",
   "execution_count": 10,
   "metadata": {},
   "outputs": [],
   "source": [
    "def augment(x, y):\n",
    "    image = tf.image.random_brightness(x, max_delta=0.05)\n",
    "    return image, y\n",
    "\n",
    "ds_train = ds_train.map(augment)\n",
    "\n",
    "# Redo model.compile to reset the optimizer states\n",
    "model.compile(\n",
    "    optimizer=keras.optimizers.Adam(),\n",
    "    loss=[keras.losses.SparseCategoricalCrossentropy(from_logits=True),],\n",
    "    metrics=[\"accuracy\"],\n",
    ")\n"
   ]
  },
  {
   "cell_type": "code",
   "execution_count": 12,
   "metadata": {},
   "outputs": [
    {
     "name": "stdout",
     "output_type": "stream",
     "text": [
      "Epoch 1/10\n",
      "61/61 - 1s - loss: 39.8678 - accuracy: 0.4836 - 835ms/epoch - 14ms/step\n",
      "Epoch 2/10\n",
      "61/61 - 0s - loss: 0.9798 - accuracy: 0.9426 - 192ms/epoch - 3ms/step\n",
      "Epoch 3/10\n",
      "61/61 - 0s - loss: 0.5744 - accuracy: 0.9672 - 177ms/epoch - 3ms/step\n",
      "Epoch 4/10\n",
      "61/61 - 0s - loss: 7.0353e-08 - accuracy: 1.0000 - 201ms/epoch - 3ms/step\n",
      "Epoch 5/10\n",
      "61/61 - 0s - loss: 4.9833e-08 - accuracy: 1.0000 - 219ms/epoch - 4ms/step\n",
      "Epoch 6/10\n",
      "61/61 - 0s - loss: 4.9833e-08 - accuracy: 1.0000 - 167ms/epoch - 3ms/step\n",
      "Epoch 7/10\n",
      "61/61 - 0s - loss: 4.8856e-08 - accuracy: 1.0000 - 254ms/epoch - 4ms/step\n",
      "Epoch 8/10\n",
      "61/61 - 0s - loss: 4.8856e-08 - accuracy: 1.0000 - 238ms/epoch - 4ms/step\n",
      "Epoch 9/10\n",
      "61/61 - 0s - loss: 4.8856e-08 - accuracy: 1.0000 - 220ms/epoch - 4ms/step\n",
      "Epoch 10/10\n",
      "61/61 - 0s - loss: 4.8856e-08 - accuracy: 1.0000 - 205ms/epoch - 3ms/step\n"
     ]
    },
    {
     "data": {
      "text/plain": [
       "<keras.src.callbacks.History at 0x1d2e66c2e50>"
      ]
     },
     "execution_count": 12,
     "metadata": {},
     "output_type": "execute_result"
    }
   ],
   "source": [
    "model.fit(ds_train, epochs=10, verbose=2)"
   ]
  }
 ],
 "metadata": {
  "kernelspec": {
   "display_name": "venv",
   "language": "python",
   "name": "python3"
  },
  "language_info": {
   "codemirror_mode": {
    "name": "ipython",
    "version": 3
   },
   "file_extension": ".py",
   "mimetype": "text/x-python",
   "name": "python",
   "nbconvert_exporter": "python",
   "pygments_lexer": "ipython3",
   "version": "3.11.0"
  }
 },
 "nbformat": 4,
 "nbformat_minor": 2
}
